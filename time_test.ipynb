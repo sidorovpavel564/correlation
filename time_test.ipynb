{
 "cells": [
  {
   "cell_type": "code",
   "execution_count": 1,
   "id": "7d56bea0-380c-4a49-9eb6-4af482379d12",
   "metadata": {},
   "outputs": [],
   "source": [
    "import numpy as np\n",
    "import pandas as pd\n",
    "import matplotlib.pyplot as plt\n",
    "import matplotlib as mpl\n",
    "from sklearn.datasets import make_blobs\n",
    "mpl.rcParams['figure.dpi'] = 300"
   ]
  },
  {
   "cell_type": "code",
   "execution_count": null,
   "id": "3e1124a1-37af-4071-85e6-616fa22a0bbe",
   "metadata": {},
   "outputs": [
    {
     "name": "stdout",
     "output_type": "stream",
     "text": [
      "122 µs ± 4.46 µs per loop (mean ± std. dev. of 7 runs, 10,000 loops each)\n",
      "260 µs ± 12.4 µs per loop (mean ± std. dev. of 7 runs, 1,000 loops each)\n",
      "741 µs ± 19.9 µs per loop (mean ± std. dev. of 7 runs, 1,000 loops each)\n",
      "2.68 ms ± 100 µs per loop (mean ± std. dev. of 7 runs, 100 loops each)\n",
      "9.79 ms ± 42.3 µs per loop (mean ± std. dev. of 7 runs, 100 loops each)\n",
      "38.1 ms ± 169 µs per loop (mean ± std. dev. of 7 runs, 10 loops each)\n",
      "152 ms ± 668 µs per loop (mean ± std. dev. of 7 runs, 10 loops each)\n",
      "604 ms ± 3.05 ms per loop (mean ± std. dev. of 7 runs, 1 loop each)\n",
      "2.4 s ± 4.43 ms per loop (mean ± std. dev. of 7 runs, 1 loop each)\n",
      "121 µs ± 414 ns per loop (mean ± std. dev. of 7 runs, 10,000 loops each)\n",
      "255 µs ± 5.4 µs per loop (mean ± std. dev. of 7 runs, 1,000 loops each)\n",
      "729 µs ± 3.81 µs per loop (mean ± std. dev. of 7 runs, 1,000 loops each)\n",
      "2.55 ms ± 6.76 µs per loop (mean ± std. dev. of 7 runs, 100 loops each)\n",
      "9.83 ms ± 73.2 µs per loop (mean ± std. dev. of 7 runs, 100 loops each)\n",
      "39.2 ms ± 1.06 ms per loop (mean ± std. dev. of 7 runs, 10 loops each)\n"
     ]
    }
   ],
   "source": [
    "%%timeit\n",
    "rows_number = []\n",
    "for i in range(9):\n",
    "    rows_number.append(4*(2**i))\n",
    "\n",
    "datasets = []\n",
    "for i in rows_number:\n",
    "    total_columns = i\n",
    "    cols = []\n",
    "    for column_number in range(1, total_columns + 1):\n",
    "        cols.append('column' + str(column_number))\n",
    "    arr = make_blobs(n_samples=1000, n_features=total_columns, random_state=20, centers=3, cluster_std=1)\n",
    "    data = pd.DataFrame(data=arr[0], columns=cols)\n",
    "    datasets.append(data)\n",
    "\n",
    "for data in datasets:\n",
    "    %timeit data.corr()"
   ]
  },
  {
   "cell_type": "code",
   "execution_count": null,
   "id": "ff235a74-6907-4508-b3ad-069f4c463dda",
   "metadata": {},
   "outputs": [],
   "source": []
  }
 ],
 "metadata": {
  "kernelspec": {
   "display_name": "Python 3 (ipykernel)",
   "language": "python",
   "name": "python3"
  },
  "language_info": {
   "codemirror_mode": {
    "name": "ipython",
    "version": 3
   },
   "file_extension": ".py",
   "mimetype": "text/x-python",
   "name": "python",
   "nbconvert_exporter": "python",
   "pygments_lexer": "ipython3",
   "version": "3.10.6"
  }
 },
 "nbformat": 4,
 "nbformat_minor": 5
}
